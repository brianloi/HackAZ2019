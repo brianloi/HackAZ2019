{
 "cells": [
  {
   "cell_type": "markdown",
   "metadata": {},
   "source": [
    "Data Visualization: World Happiness and The Statistics of Countries"
   ]
  },
  {
   "cell_type": "code",
   "execution_count": 1,
   "metadata": {},
   "outputs": [
    {
     "data": {
      "text/html": [
       "<script type=\"text/javascript\">window.PlotlyConfig = {MathJaxConfig: 'local'};</script><script type=\"text/javascript\">if (window.MathJax) {MathJax.Hub.Config({SVG: {font: \"STIX-Web\"}});}</script><script>requirejs.config({paths: { 'plotly': ['https://cdn.plot.ly/plotly-latest.min']},});if(!window._Plotly) {require(['plotly'],function(plotly) {window._Plotly=plotly;});}</script>"
      ],
      "text/vnd.plotly.v1+html": [
       "<script type=\"text/javascript\">window.PlotlyConfig = {MathJaxConfig: 'local'};</script><script type=\"text/javascript\">if (window.MathJax) {MathJax.Hub.Config({SVG: {font: \"STIX-Web\"}});}</script><script>requirejs.config({paths: { 'plotly': ['https://cdn.plot.ly/plotly-latest.min']},});if(!window._Plotly) {require(['plotly'],function(plotly) {window._Plotly=plotly;});}</script>"
      ]
     },
     "metadata": {},
     "output_type": "display_data"
    }
   ],
   "source": [
    "#Imports\n",
    "import plotly as py\n",
    "import plotly.plotly as plt\n",
    "import plotly.graph_objs as go\n",
    "import ipywidgets as widget\n",
    "import numpy as np\n",
    "import pandas as pd\n",
    "from scipy import stats\n",
    "from IPython.display import HTML\n",
    "\n",
    "#Logging onto PlotLy (Offline for now)\n",
    "py.offline.init_notebook_mode(connected=True)"
   ]
  },
  {
   "cell_type": "code",
   "execution_count": 2,
   "metadata": {},
   "outputs": [
    {
     "data": {
      "text/html": [
       "<script>\n",
       "code_show=true; \n",
       "function code_toggle() {\n",
       " if (code_show){\n",
       " $('div.input').hide();\n",
       " } else {\n",
       " $('div.input').show();\n",
       " }\n",
       " code_show = !code_show\n",
       "} \n",
       "$( document ).ready(code_toggle);\n",
       "</script>\n",
       "The raw code for this IPython notebook is by default hidden for easier reading.\n",
       "To toggle on/off the raw code, click <a href=\"javascript:code_toggle()\">here</a>."
      ],
      "text/plain": [
       "<IPython.core.display.HTML object>"
      ]
     },
     "execution_count": 2,
     "metadata": {},
     "output_type": "execute_result"
    }
   ],
   "source": [
    "'''\n",
    "This code in this cell is Damien Kao. The purpose of the code in this cell is to \n",
    "hide code in jupyter notebook for a cleaner presentation.\n",
    "Source: http://blog.nextgenetics.net/?e=102\n",
    "'''\n",
    "\n",
    "HTML('''<script>\n",
    "code_show=true; \n",
    "function code_toggle() {\n",
    " if (code_show){\n",
    " $('div.input').hide();\n",
    " } else {\n",
    " $('div.input').show();\n",
    " }\n",
    " code_show = !code_show\n",
    "} \n",
    "$( document ).ready(code_toggle);\n",
    "</script>\n",
    "The raw code for this IPython notebook is by default hidden for easier reading.\n",
    "To toggle on/off the raw code, click <a href=\"javascript:code_toggle()\">here</a>.''')"
   ]
  },
  {
   "cell_type": "code",
   "execution_count": 3,
   "metadata": {
    "scrolled": true
   },
   "outputs": [],
   "source": [
    "#Create Happiness DataFrame and Happiness Score Series\n",
    "happy_df = pd.read_csv(\"2017.csv\", index_col=0)\n",
    "happy_score = happy_df.iloc[:,1] #Happiness Score Series\n",
    "\n",
    "#Create a world DataFrame containing various info all countries in the world as of 2017\n",
    "df = pd.read_csv(\"world.csv\", index_col=0, decimal=',')\n",
    "\n",
    "# Calculate and Add a column to the world DataFrame: Growth Rate\n",
    "# Growth Rate is calculated as a countries Birthrate - Deathrate\n",
    "gr_lst = []\n",
    "for index in df.index.values:\n",
    "    gr_lst.append(float(df.loc[index, 'Birthrate']) - float(df.loc[index, 'Deathrate'] ))\n",
    "df[\"Growth_Rate\"] = gr_lst"
   ]
  },
  {
   "cell_type": "code",
   "execution_count": 4,
   "metadata": {
    "scrolled": false
   },
   "outputs": [
    {
     "data": {
      "application/vnd.jupyter.widget-view+json": {
       "model_id": "66a612e27f764029987fb96ddc6f44df",
       "version_major": 2,
       "version_minor": 0
      },
      "text/plain": [
       "A Jupyter Widget"
      ]
     },
     "metadata": {},
     "output_type": "display_data"
    }
   ],
   "source": [
    "def update_plot(column, style):\n",
    "    '''\n",
    "    This function updates the plot each time a new widget selection is made.\n",
    "    \n",
    "    Parameters:\n",
    "    column - the selected Country statistic\n",
    "    style - the style in which the plot is presented\n",
    "    \n",
    "    Returns: None\n",
    "    '''\n",
    "    #Create the layout for the plotly, set settings for plotly\n",
    "    layout = dict(\n",
    "        title = column + \" in the World (2017)\",\n",
    "        geo = dict(\n",
    "            showframe = False,\n",
    "            showcoastlines = True,\n",
    "            projection = dict(\n",
    "                type = style #map projection, original: Mercator\n",
    "            )\n",
    "        )\n",
    "    )\n",
    "    \n",
    "    #Set the data for the plot, set type to choropleth\n",
    "    data = [ dict(\n",
    "        type = 'choropleth',\n",
    "        locations = df['CODE'],\n",
    "        z = df[column],\n",
    "        text = df.index.values, #Country\n",
    "        #Set colors here (follow a gradient)\n",
    "        colorscale = [[0,\"rgb(237, 41, 47)\"],[0.35,\"rgb(240, 67, 165)\"],[0.5,\"rgb(203, 106, 244)\"],\\\n",
    "            [0.6,\"rgb(158, 133, 247)\"],[0.7,\"rgb(175, 215, 252)\"],[1,\"rgb(204, 255, 255)\"]],\n",
    "        autocolorscale = False,\n",
    "        reversescale = True,\n",
    "        marker = dict(\n",
    "            line = dict (\n",
    "                color = 'rgb(180,180,180)',\n",
    "                width = 0.5\n",
    "            ) ),\n",
    "        colorbar = dict(\n",
    "            autotick = False,\n",
    "            title = column),\n",
    "        ) ]\n",
    "    \n",
    "    #Plot the data\n",
    "    fig = dict( data=data, layout=layout )\n",
    "    py.offline.iplot( fig, validate=False, filename='test.html' )\n",
    "\n",
    "# Set the widgets and options\n",
    "options = [\"Growth_Rate\", \"Population\", \"GDP ($ per capita)\", \"Literacy (%)\", \"Phones (per 1000)\"]\n",
    "column = widget.Dropdown(options=options, value=\"Growth_Rate\", description = \"Country Stats\")\n",
    "styles = ['orthographic', 'Mercator']\n",
    "style = widget.Dropdown(options=styles, value=\"Mercator\", description = \"Style\")\n",
    "widget.interactive(update_plot, column=column, style=style)"
   ]
  },
  {
   "cell_type": "code",
   "execution_count": 5,
   "metadata": {
    "scrolled": false
   },
   "outputs": [
    {
     "data": {
      "application/vnd.jupyter.widget-view+json": {
       "model_id": "ce78754c19af4a138aed067441a240ed",
       "version_major": 2,
       "version_minor": 0
      },
      "text/plain": [
       "A Jupyter Widget"
      ]
     },
     "metadata": {},
     "output_type": "display_data"
    }
   ],
   "source": [
    "def update_plot(year, style):\n",
    "    '''\n",
    "    This function updates the plot each time a new widget selection is made.\n",
    "    \n",
    "    Parameters:\n",
    "    year - the selected year\n",
    "    style - the style in which the plot is presented\n",
    "    \n",
    "    Returns: None\n",
    "    '''\n",
    "    #Set the layout settings of the PlotLy\n",
    "    layout = dict(\n",
    "    title = 'Population in '+ str(year) +' Based on 2017 Growth Rates',\n",
    "    geo = dict(\n",
    "        showframe = False,\n",
    "        showcoastlines = True,\n",
    "        projection = dict(\n",
    "            type = style #map projection, original: Mercator\n",
    "            )\n",
    "        )\n",
    "    )\n",
    "    \n",
    "    #The multiplier for the growth rate, calculated by years since 2017\n",
    "    multiplier = year-2017\n",
    "    \n",
    "    #Create a copy of the world DataFrame for manipulation\n",
    "    df2 = df.copy()\n",
    "    #Re-calculate each countries population\n",
    "    for index in df2.index.values:\n",
    "        df2.loc[index, 'Population'] = df2.loc[index, 'Population'] + (df2.loc[index, \"Growth_Rate\"] * multiplier * (df2.loc[index, 'Population']//1000))\n",
    "        #If a country has negative population, its population is zero!\n",
    "        if (df2.loc[index, 'Population'] <= 0):\n",
    "            df2.loc[index, 'Population'] = 0\n",
    "            \n",
    "    #Set the data and color scale gradient\n",
    "    data = [ dict(\n",
    "        type = 'choropleth',\n",
    "        locations = df2['CODE'],\n",
    "        z = df2['Population'],\n",
    "        text = df2.index.values, #Country\n",
    "        colorscale = [[0,\"rgb(237, 41, 47)\"],[0.35,\"rgb(240, 67, 165)\"],[0.5,\"rgb(203, 106, 244)\"],\\\n",
    "            [0.6,\"rgb(158, 133, 247)\"],[0.7,\"rgb(175, 215, 252)\"],[.999,\"rgb(204, 255, 255)\"], [1,\"rgb(255, 255, 0)\"] ],\n",
    "        autocolorscale = False,\n",
    "        reversescale = True,\n",
    "        marker = dict(\n",
    "            line = dict (\n",
    "                color = 'rgb(180,180,180)',\n",
    "                width = 0.5\n",
    "            ) ),\n",
    "        colorbar = dict(\n",
    "            autotick = False,\n",
    "            title = 'Population'),\n",
    "      ) ]\n",
    "    \n",
    "    #Plot the plotly\n",
    "    fig = dict( data=data, layout=layout )\n",
    "    py.offline.iplot( fig, validate=False, filename='d3-world-map' )\n",
    "    \n",
    "#Set the widgets and their options\n",
    "year = widget.IntSlider(min=2017, max=3000, value=2017, description='Year')\n",
    "styles = ['orthographic', 'Mercator']\n",
    "style = widget.Dropdown(options=styles, value=\"Mercator\", description = \"Style\")\n",
    "\n",
    "widget.interactive(update_plot, year=year, style=style)"
   ]
  },
  {
   "cell_type": "code",
   "execution_count": 6,
   "metadata": {
    "scrolled": false
   },
   "outputs": [
    {
     "data": {
      "application/vnd.jupyter.widget-view+json": {
       "model_id": "82b305483c6a4fefa19fac9894cc9a3d",
       "version_major": 2,
       "version_minor": 0
      },
      "text/plain": [
       "A Jupyter Widget"
      ]
     },
     "metadata": {},
     "output_type": "display_data"
    }
   ],
   "source": [
    "#Establish the data, set z-values to happiness scores and text to country names\n",
    "data = [ dict(\n",
    "        type = 'choropleth',\n",
    "        locations = happy_df['CODE'],\n",
    "        z = happy_df['Happiness.Score'],\n",
    "        text = happy_df.index.values, #Country\n",
    "        #Set color scale to a gradient\n",
    "        colorscale = [[0,\"rgb(34, 139, 34)\"],[0.35,\"rgb(55, 48, 117)\"],[0.5,\"rgb(90, 114, 161)\"],\\\n",
    "            [0.6,\"rgb(134, 116, 170)\"],[0.7,\"rgb(183, 160, 175)\"],[1,\"rgb(192, 192, 192)\"]],\n",
    "        autocolorscale = False,\n",
    "        reversescale = True,\n",
    "        marker = dict(\n",
    "            line = dict (\n",
    "                color = 'rgb(180,180,180)',\n",
    "                width = 0.5\n",
    "            ) ),\n",
    "        colorbar = dict(\n",
    "            autotick = False,\n",
    "            title = 'Happiness Score'),\n",
    "      ) ]\n",
    "\n",
    "def update_plot(style):\n",
    "    '''\n",
    "    This function updates the plot each time a new widget selection is made.\n",
    "    \n",
    "    Parameters:\n",
    "    style - the style in which the plot is presented\n",
    "    \n",
    "    Returns: None\n",
    "    '''\n",
    "    #Set layout settings for plotly\n",
    "    layout = dict(\n",
    "        title = 'Happiness Scores based on economic, social support, etc.',\n",
    "        geo = dict(\n",
    "            showframe = False,\n",
    "            showcoastlines = True,\n",
    "            projection = dict(\n",
    "                type = style #map projection, original: Mercator\n",
    "            )\n",
    "        )\n",
    "    )\n",
    "\n",
    "    # Plot the data\n",
    "    fig = dict( data=data, layout=layout )\n",
    "    py.offline.iplot( fig, validate=False, filename='d3-world-map' )\n",
    "\n",
    "#Set the widgets and their options\n",
    "styles = ['orthographic', 'Mercator']\n",
    "style = widget.Dropdown(options=styles, value=\"Mercator\", description = \"Style\")\n",
    "widget.interactive(update_plot, style=style)"
   ]
  },
  {
   "cell_type": "code",
   "execution_count": 7,
   "metadata": {},
   "outputs": [],
   "source": [
    "# Set up lists, data, DataFrame for a new and cleaner DataFrame\n",
    "happy_score = pd.read_csv(\"2017.csv\", index_col=12)\n",
    "data2 = pd.read_csv(\"world.csv\", index_col=20, decimal=',')\n",
    "happiness = []\n",
    "popul = []\n",
    "gdp = []\n",
    "lit = []\n",
    "phone = []\n",
    "growth = []\n",
    "\n",
    "#Iterate over the data and create the new DataFrame with variables we care about\n",
    "for index in data2.index.values:\n",
    "    if index in happy_score.index.values:\n",
    "        happiness.append(happy_score.loc[index, \"Happiness.Score\"])\n",
    "        popul.append(data2.loc[index, \"Population\"])\n",
    "        gdp.append(data2.loc[index, \"GDP ($ per capita)\"])\n",
    "        lit.append(data2.loc[index, \"Literacy (%)\"])\n",
    "        phone.append(data2.loc[index, \"Phones (per 1000)\"])\n",
    "        growth.append(data2.loc[index, \"Birthrate\"] - data2.loc[index, \"Deathrate\"])\n",
    "scatter = pd.DataFrame([popul, gdp, lit, phone, growth], \n",
    "                       index=[\"Population\", \"GDP ($ per capita)\", \"Literacy (%)\", \"Phones (per 1000)\", \"Growth_Rate\"], \n",
    "                       columns= happiness)\n",
    "scatter = scatter.T #Transpose the data\n",
    "scatter = scatter.dropna() #Clean the data; get rid of NaNs\n"
   ]
  },
  {
   "cell_type": "code",
   "execution_count": 8,
   "metadata": {},
   "outputs": [
    {
     "data": {
      "application/vnd.jupyter.widget-view+json": {
       "model_id": "967dd71f359b46939ce1e5b3b8e47e16",
       "version_major": 2,
       "version_minor": 0
      },
      "text/plain": [
       "A Jupyter Widget"
      ]
     },
     "metadata": {},
     "output_type": "display_data"
    }
   ],
   "source": [
    "def update_plot(column):\n",
    "    '''\n",
    "    This function updates the plot each time a new widget selection is made.\n",
    "    \n",
    "    Parameters:\n",
    "    column - the selected Country statistic\n",
    "    \n",
    "    Returns: None\n",
    "    '''\n",
    "    #Set the layout settings for the plotly\n",
    "    layout = go.Layout(xaxis=dict(ticks='', showticklabels=True,\n",
    "                              zeroline=False, title=\"Happiness\"),\n",
    "                   yaxis=dict(ticks='', showticklabels=True,\n",
    "                              zeroline=False, title=column),\n",
    "                   title=\"Happiness Score vs. \" + column,\n",
    "                   showlegend=False, hovermode='closest',\n",
    "                    )\n",
    "    \n",
    "    # Plot the scattered data points\n",
    "    p1 = go.Scatter(x= scatter.index.values, \n",
    "                    y= scatter.loc[:, column], \n",
    "                    mode='markers',\n",
    "                    marker=dict(color='black')\n",
    "                   )\n",
    "\n",
    "    # Calculate the ols parameters\n",
    "    slope, intercept, rval, pval, stderr = stats.linregress(scatter.index.values, scatter.loc[:, column])\n",
    "\n",
    "    # Calculate and plot the linear regression model\n",
    "    p2 = go.Scatter(x= scatter.index.values , \n",
    "                    y= [slope * happy + intercept for happy in scatter.index.values ],\n",
    "                    mode='lines',\n",
    "                    line=dict(color='blue', width=3)\n",
    "                    )\n",
    "    \n",
    "    # Plot the plots/figures\n",
    "    fig = go.Figure(data=[p1, p2], layout=layout)\n",
    "    py.offline.iplot(fig)\n",
    "    \n",
    "    # Print out the linear regression model statistics\n",
    "    print(\"Slope: \" + str(slope) + '\\nP-Value: ' + str(pval) + '\\nR-Squared: ' + str(rval**2))\n",
    "\n",
    "#Set the widgets and their options\n",
    "options = [\"Growth_Rate\", \"Population\", \"GDP ($ per capita)\", \"Literacy (%)\", \"Phones (per 1000)\"]\n",
    "column = widget.Dropdown(options=options, value=\"Growth_Rate\", description = \"Country Stats\")\n",
    "\n",
    "widget.interactive(update_plot, column=column)"
   ]
  },
  {
   "cell_type": "code",
   "execution_count": null,
   "metadata": {
    "collapsed": true
   },
   "outputs": [],
   "source": []
  }
 ],
 "metadata": {
  "kernelspec": {
   "display_name": "Python 3",
   "language": "python",
   "name": "python3"
  },
  "language_info": {
   "codemirror_mode": {
    "name": "ipython",
    "version": 3
   },
   "file_extension": ".py",
   "mimetype": "text/x-python",
   "name": "python",
   "nbconvert_exporter": "python",
   "pygments_lexer": "ipython3",
   "version": "3.6.8"
  }
 },
 "nbformat": 4,
 "nbformat_minor": 2
}
